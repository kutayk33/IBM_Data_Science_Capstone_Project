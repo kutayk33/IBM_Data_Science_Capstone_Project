{
 "cells": [
  {
   "cell_type": "markdown",
   "metadata": {},
   "source": [
    "## 1. Description of the Business Problem & Discussion of the Background\n",
    "    \n",
    "   ### Problem Statement\n",
    "     \n",
    "   Which location is the most suitable to open a new chicken restaurant in Toronto, Canada. \n",
    "    \n",
    "   ### Background \n",
    "    \n",
    "   My client is a successful Entrepreneur in Europe. It's only been 3 years since he started his business. But now, in 2020, He has 16 chicken restaurants in big cities of Europe like Paris, Berlin, Brussels and Amsterdam etc.  And now he wants to expand his business in other countries. He has a particular interest in Canada. So, he wants to open a new restaurant in Toronto. \n",
    "  \n",
    "  ### About Toronto\n",
    "     \n",
    "   Toronto is Canada’s largest city and a world leader in such areas as business, finance, technology, entertainment and culture. Its large population of immigrants from all over the globe has also made Toronto one of the most multicultural cities in the world. \n",
    "     \n",
    "   My client wants to open his business in Toronto, so I focus on that borough during my analysis. We define potential neighborhood based on the number of chicken restaurant which are operating right in each neighborhood. Toronto has full potential but also is a very challenging district to open a business because of high competition. New chicken restaurant should be open in an area that inadequate neighborhood in this way it can attract more customers.\n",
    "    \n",
    "   ### Target Audience\n",
    "     \n",
    "   The entrepreneur who wants to find the location to open a new chicken restaurant\n",
    "\n",
    "## 2. Data acquisition\n",
    "   \n",
    "  - In order to segement the neighborhoods and explore them, we will essentially need a dataset that contains the boroughs and the neighborhoods that exist in each borough as well as the the latitude and logitude coordinates of each neighborhood.\n",
    "  \n",
    "  - Toronto geographical coordinates data will be utilized as input for the Foursquare API, that will be leveraged to provision venues information for each neighborhood.We will use the Foursquare API to explore neighborhoods. \n",
    "   \n",
    "   __So, We will use the following data sets:__\n",
    "   \n",
    "   \n",
    "   - “List of Postal code of Canada: M” (https://en.wikipedia.org/wiki/List_of_postal_codes_of_Canada:_M) wiki page to get all the information about the neighborhoods present in Toronto. This page has the postal code, borough and the names of all the neighborhoods present in Toronto.\n",
    "   \n",
    "   \n",
    "   - “https://cocl.us/Geospatial_data” csv file to get all the geographical coordinates of the neighborhoods.\n",
    "   \n",
    "   \n",
    "   - To get location and other information about various venues in Toronto, we use __Foursquare’s API__. I’m fetching details about the venues up present in Toronto and collected their names, categories and locations (latitude and longitude).\n",
    "   \n",
    "   \n"
   ]
  },
  {
   "cell_type": "code",
   "execution_count": null,
   "metadata": {},
   "outputs": [],
   "source": []
  }
 ],
 "metadata": {
  "kernelspec": {
   "display_name": "Python 3",
   "language": "python",
   "name": "python3"
  },
  "language_info": {
   "codemirror_mode": {
    "name": "ipython",
    "version": 3
   },
   "file_extension": ".py",
   "mimetype": "text/x-python",
   "name": "python",
   "nbconvert_exporter": "python",
   "pygments_lexer": "ipython3",
   "version": "3.7.6"
  }
 },
 "nbformat": 4,
 "nbformat_minor": 4
}
